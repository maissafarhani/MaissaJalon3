{
  "nbformat": 4,
  "nbformat_minor": 0,
  "metadata": {
    "colab": {
      "provenance": []
    },
    "kernelspec": {
      "name": "python3",
      "display_name": "Python 3"
    },
    "language_info": {
      "name": "python"
    }
  },
  "cells": [
    {
      "cell_type": "code",
      "source": [
        "import pickle\n",
        "\n",
        "with open('./vectorizer_Model.pkl', 'rb') as vectorizer_Model:\n",
        "    vec = pickle.load(vectorizer_Model)\n",
        "print(vec)"
      ],
      "metadata": {
        "colab": {
          "base_uri": "https://localhost:8080/"
        },
        "id": "T9gs7_gHyp5q",
        "outputId": "592ac22d-9081-43cc-a931-d496b97f35cc"
      },
      "execution_count": 25,
      "outputs": [
        {
          "output_type": "stream",
          "name": "stdout",
          "text": [
            "TfidfVectorizer(max_df=0.8, min_df=0.01)\n"
          ]
        }
      ]
    },
    {
      "cell_type": "code",
      "source": [
        "import pickle\n",
        "\n",
        "with open('./NMF_Model.pkl', 'rb') as NMF_Model:\n",
        "    nmf = pickle.load(NMF_Model)\n",
        "print(vec)\n",
        "\n",
        "           "
      ],
      "metadata": {
        "colab": {
          "base_uri": "https://localhost:8080/"
        },
        "id": "jg0BYHRUlY4W",
        "outputId": "f3b450d3-8e96-46e0-c739-041af3070c74"
      },
      "execution_count": 47,
      "outputs": [
        {
          "output_type": "stream",
          "name": "stdout",
          "text": [
            "TfidfVectorizer(max_df=0.8, min_df=0.01)\n"
          ]
        }
      ]
    },
    {
      "cell_type": "code",
      "source": [
        "pip install -U textblob\n"
      ],
      "metadata": {
        "colab": {
          "base_uri": "https://localhost:8080/"
        },
        "id": "r433_TDZ2TcU",
        "outputId": "b37976dc-4054-43c7-9d41-42367a53b39c"
      },
      "execution_count": 27,
      "outputs": [
        {
          "output_type": "stream",
          "name": "stdout",
          "text": [
            "Looking in indexes: https://pypi.org/simple, https://us-python.pkg.dev/colab-wheels/public/simple/\n",
            "Requirement already satisfied: textblob in /usr/local/lib/python3.7/dist-packages (0.17.1)\n",
            "Requirement already satisfied: nltk>=3.1 in /usr/local/lib/python3.7/dist-packages (from textblob) (3.7)\n",
            "Requirement already satisfied: tqdm in /usr/local/lib/python3.7/dist-packages (from nltk>=3.1->textblob) (4.64.1)\n",
            "Requirement already satisfied: regex>=2021.8.3 in /usr/local/lib/python3.7/dist-packages (from nltk>=3.1->textblob) (2022.6.2)\n",
            "Requirement already satisfied: click in /usr/local/lib/python3.7/dist-packages (from nltk>=3.1->textblob) (7.1.2)\n",
            "Requirement already satisfied: joblib in /usr/local/lib/python3.7/dist-packages (from nltk>=3.1->textblob) (1.2.0)\n"
          ]
        }
      ]
    },
    {
      "cell_type": "code",
      "source": [
        "import nltk\n",
        "nltk.download('brown')\n",
        "nltk.download('punkt')"
      ],
      "metadata": {
        "colab": {
          "base_uri": "https://localhost:8080/"
        },
        "id": "vyTtM-jy2y32",
        "outputId": "d0bfe95b-7fb8-4d46-c2fc-45328f3348a1"
      },
      "execution_count": 28,
      "outputs": [
        {
          "output_type": "stream",
          "name": "stderr",
          "text": [
            "[nltk_data] Downloading package brown to /root/nltk_data...\n",
            "[nltk_data]   Package brown is already up-to-date!\n",
            "[nltk_data] Downloading package punkt to /root/nltk_data...\n",
            "[nltk_data]   Package punkt is already up-to-date!\n"
          ]
        },
        {
          "output_type": "execute_result",
          "data": {
            "text/plain": [
              "True"
            ]
          },
          "metadata": {},
          "execution_count": 28
        }
      ]
    },
    {
      "cell_type": "code",
      "source": [
        "from textblob import TextBlob\n",
        "import nltk\n",
        "blob = TextBlob(\"Analytics Vidhya is a great platform to learn data science. \\n It helps community through blogs, hackathons, discussions,etc.\")\n",
        "for np in blob.noun_phrases:\n",
        " print (np)\n"
      ],
      "metadata": {
        "colab": {
          "base_uri": "https://localhost:8080/"
        },
        "id": "042D7yLMlZYt",
        "outputId": "fa0adcbc-b173-4d26-a84c-89f59ff84e68"
      },
      "execution_count": 29,
      "outputs": [
        {
          "output_type": "stream",
          "name": "stdout",
          "text": [
            "analytics vidhya\n",
            "great platform\n",
            "data science\n"
          ]
        }
      ]
    },
    {
      "cell_type": "code",
      "source": [
        "import nltk\n",
        "nltk.download('averaged_perceptron_tagger')"
      ],
      "metadata": {
        "colab": {
          "base_uri": "https://localhost:8080/"
        },
        "id": "YJaD2kgE58WH",
        "outputId": "35d13080-a662-40d1-8d7d-05252fd523f9"
      },
      "execution_count": 31,
      "outputs": [
        {
          "output_type": "stream",
          "name": "stderr",
          "text": [
            "[nltk_data] Downloading package averaged_perceptron_tagger to\n",
            "[nltk_data]     /root/nltk_data...\n",
            "[nltk_data]   Package averaged_perceptron_tagger is already up-to-\n",
            "[nltk_data]       date!\n"
          ]
        },
        {
          "output_type": "execute_result",
          "data": {
            "text/plain": [
              "True"
            ]
          },
          "metadata": {},
          "execution_count": 31
        }
      ]
    },
    {
      "cell_type": "code",
      "source": [
        "for words, tag in blob.tags:\n",
        " print (words, tag)"
      ],
      "metadata": {
        "colab": {
          "base_uri": "https://localhost:8080/"
        },
        "id": "oncTaESelZrF",
        "outputId": "b8b61f1d-a47f-4cf5-da70-b020585020b9"
      },
      "execution_count": 32,
      "outputs": [
        {
          "output_type": "stream",
          "name": "stdout",
          "text": [
            "Analytics NNS\n",
            "Vidhya NNP\n",
            "is VBZ\n",
            "a DT\n",
            "great JJ\n",
            "platform NN\n",
            "to TO\n",
            "learn VB\n",
            "data NNS\n",
            "science NN\n",
            "It PRP\n",
            "helps VBZ\n",
            "community NN\n",
            "through IN\n",
            "blogs NNS\n",
            "hackathons NNS\n",
            "discussions NNS\n",
            "etc FW\n"
          ]
        }
      ]
    },
    {
      "cell_type": "code",
      "source": [
        "import pandas as pd\n",
        "import numpy as np\n",
        "DATASET_FILE = \"./dataset_cleaned.csv\"\n",
        "dataset = pd.read_csv(DATASET_FILE)\n",
        "dataset"
      ],
      "metadata": {
        "colab": {
          "base_uri": "https://localhost:8080/",
          "height": 424
        },
        "id": "xACT8eB_EQzv",
        "outputId": "79ec0699-ac22-4a86-8487-824f9aa72cbe"
      },
      "execution_count": 34,
      "outputs": [
        {
          "output_type": "execute_result",
          "data": {
            "text/plain": [
              "                                                    text  stars  length  \\\n",
              "0      I've only had food from here once and it wasn'...      1      68   \n",
              "1      I will never return here again.  Ever.  I was ...      1      87   \n",
              "2      I wish my experience was great as others. I di...      1     166   \n",
              "3      Are the rosemary grapefruit scones supposed to...      1      81   \n",
              "4      Our takeout order was half wrong. Food was mis...      1      32   \n",
              "...                                                  ...    ...     ...   \n",
              "24995  I was a loyal fan of Aroy before the ownership...      5      75   \n",
              "24996  Stopped here for a bite while wandering around...      5      55   \n",
              "24997  A quiet place with excellent food, great music...      5      32   \n",
              "24998  Super delicious food. Awesome vibe. I suffered...      5      41   \n",
              "24999  I have a lot of dietary restrictions and this ...      5      87   \n",
              "\n",
              "                                            text_cleaned  \n",
              "0      food memorable panang curry balance flavor lik...  \n",
              "1      NOT_return ever sit booth wait dinner come scu...  \n",
              "2      wish experience great others din wednesday nig...  \n",
              "3      rosemary grapefruit scone suppose taste like w...  \n",
              "4      takeout order half wrong food miss portion siz...  \n",
              "...                                                  ...  \n",
              "24995  loyal fan aroy ownership change apprehensive v...  \n",
              "24996  stopped bite wander around faneuil hall pleasa...  \n",
              "24997  quiet place excellent food great music helpful...  \n",
              "24998  super delicious food awesome vibe suffer disne...  \n",
              "24999  lot dietary restriction place spot superfood s...  \n",
              "\n",
              "[25000 rows x 4 columns]"
            ],
            "text/html": [
              "\n",
              "  <div id=\"df-02113dd6-0fbc-4e7c-9d80-187ed9c22f3f\">\n",
              "    <div class=\"colab-df-container\">\n",
              "      <div>\n",
              "<style scoped>\n",
              "    .dataframe tbody tr th:only-of-type {\n",
              "        vertical-align: middle;\n",
              "    }\n",
              "\n",
              "    .dataframe tbody tr th {\n",
              "        vertical-align: top;\n",
              "    }\n",
              "\n",
              "    .dataframe thead th {\n",
              "        text-align: right;\n",
              "    }\n",
              "</style>\n",
              "<table border=\"1\" class=\"dataframe\">\n",
              "  <thead>\n",
              "    <tr style=\"text-align: right;\">\n",
              "      <th></th>\n",
              "      <th>text</th>\n",
              "      <th>stars</th>\n",
              "      <th>length</th>\n",
              "      <th>text_cleaned</th>\n",
              "    </tr>\n",
              "  </thead>\n",
              "  <tbody>\n",
              "    <tr>\n",
              "      <th>0</th>\n",
              "      <td>I've only had food from here once and it wasn'...</td>\n",
              "      <td>1</td>\n",
              "      <td>68</td>\n",
              "      <td>food memorable panang curry balance flavor lik...</td>\n",
              "    </tr>\n",
              "    <tr>\n",
              "      <th>1</th>\n",
              "      <td>I will never return here again.  Ever.  I was ...</td>\n",
              "      <td>1</td>\n",
              "      <td>87</td>\n",
              "      <td>NOT_return ever sit booth wait dinner come scu...</td>\n",
              "    </tr>\n",
              "    <tr>\n",
              "      <th>2</th>\n",
              "      <td>I wish my experience was great as others. I di...</td>\n",
              "      <td>1</td>\n",
              "      <td>166</td>\n",
              "      <td>wish experience great others din wednesday nig...</td>\n",
              "    </tr>\n",
              "    <tr>\n",
              "      <th>3</th>\n",
              "      <td>Are the rosemary grapefruit scones supposed to...</td>\n",
              "      <td>1</td>\n",
              "      <td>81</td>\n",
              "      <td>rosemary grapefruit scone suppose taste like w...</td>\n",
              "    </tr>\n",
              "    <tr>\n",
              "      <th>4</th>\n",
              "      <td>Our takeout order was half wrong. Food was mis...</td>\n",
              "      <td>1</td>\n",
              "      <td>32</td>\n",
              "      <td>takeout order half wrong food miss portion siz...</td>\n",
              "    </tr>\n",
              "    <tr>\n",
              "      <th>...</th>\n",
              "      <td>...</td>\n",
              "      <td>...</td>\n",
              "      <td>...</td>\n",
              "      <td>...</td>\n",
              "    </tr>\n",
              "    <tr>\n",
              "      <th>24995</th>\n",
              "      <td>I was a loyal fan of Aroy before the ownership...</td>\n",
              "      <td>5</td>\n",
              "      <td>75</td>\n",
              "      <td>loyal fan aroy ownership change apprehensive v...</td>\n",
              "    </tr>\n",
              "    <tr>\n",
              "      <th>24996</th>\n",
              "      <td>Stopped here for a bite while wandering around...</td>\n",
              "      <td>5</td>\n",
              "      <td>55</td>\n",
              "      <td>stopped bite wander around faneuil hall pleasa...</td>\n",
              "    </tr>\n",
              "    <tr>\n",
              "      <th>24997</th>\n",
              "      <td>A quiet place with excellent food, great music...</td>\n",
              "      <td>5</td>\n",
              "      <td>32</td>\n",
              "      <td>quiet place excellent food great music helpful...</td>\n",
              "    </tr>\n",
              "    <tr>\n",
              "      <th>24998</th>\n",
              "      <td>Super delicious food. Awesome vibe. I suffered...</td>\n",
              "      <td>5</td>\n",
              "      <td>41</td>\n",
              "      <td>super delicious food awesome vibe suffer disne...</td>\n",
              "    </tr>\n",
              "    <tr>\n",
              "      <th>24999</th>\n",
              "      <td>I have a lot of dietary restrictions and this ...</td>\n",
              "      <td>5</td>\n",
              "      <td>87</td>\n",
              "      <td>lot dietary restriction place spot superfood s...</td>\n",
              "    </tr>\n",
              "  </tbody>\n",
              "</table>\n",
              "<p>25000 rows × 4 columns</p>\n",
              "</div>\n",
              "      <button class=\"colab-df-convert\" onclick=\"convertToInteractive('df-02113dd6-0fbc-4e7c-9d80-187ed9c22f3f')\"\n",
              "              title=\"Convert this dataframe to an interactive table.\"\n",
              "              style=\"display:none;\">\n",
              "        \n",
              "  <svg xmlns=\"http://www.w3.org/2000/svg\" height=\"24px\"viewBox=\"0 0 24 24\"\n",
              "       width=\"24px\">\n",
              "    <path d=\"M0 0h24v24H0V0z\" fill=\"none\"/>\n",
              "    <path d=\"M18.56 5.44l.94 2.06.94-2.06 2.06-.94-2.06-.94-.94-2.06-.94 2.06-2.06.94zm-11 1L8.5 8.5l.94-2.06 2.06-.94-2.06-.94L8.5 2.5l-.94 2.06-2.06.94zm10 10l.94 2.06.94-2.06 2.06-.94-2.06-.94-.94-2.06-.94 2.06-2.06.94z\"/><path d=\"M17.41 7.96l-1.37-1.37c-.4-.4-.92-.59-1.43-.59-.52 0-1.04.2-1.43.59L10.3 9.45l-7.72 7.72c-.78.78-.78 2.05 0 2.83L4 21.41c.39.39.9.59 1.41.59.51 0 1.02-.2 1.41-.59l7.78-7.78 2.81-2.81c.8-.78.8-2.07 0-2.86zM5.41 20L4 18.59l7.72-7.72 1.47 1.35L5.41 20z\"/>\n",
              "  </svg>\n",
              "      </button>\n",
              "      \n",
              "  <style>\n",
              "    .colab-df-container {\n",
              "      display:flex;\n",
              "      flex-wrap:wrap;\n",
              "      gap: 12px;\n",
              "    }\n",
              "\n",
              "    .colab-df-convert {\n",
              "      background-color: #E8F0FE;\n",
              "      border: none;\n",
              "      border-radius: 50%;\n",
              "      cursor: pointer;\n",
              "      display: none;\n",
              "      fill: #1967D2;\n",
              "      height: 32px;\n",
              "      padding: 0 0 0 0;\n",
              "      width: 32px;\n",
              "    }\n",
              "\n",
              "    .colab-df-convert:hover {\n",
              "      background-color: #E2EBFA;\n",
              "      box-shadow: 0px 1px 2px rgba(60, 64, 67, 0.3), 0px 1px 3px 1px rgba(60, 64, 67, 0.15);\n",
              "      fill: #174EA6;\n",
              "    }\n",
              "\n",
              "    [theme=dark] .colab-df-convert {\n",
              "      background-color: #3B4455;\n",
              "      fill: #D2E3FC;\n",
              "    }\n",
              "\n",
              "    [theme=dark] .colab-df-convert:hover {\n",
              "      background-color: #434B5C;\n",
              "      box-shadow: 0px 1px 3px 1px rgba(0, 0, 0, 0.15);\n",
              "      filter: drop-shadow(0px 1px 2px rgba(0, 0, 0, 0.3));\n",
              "      fill: #FFFFFF;\n",
              "    }\n",
              "  </style>\n",
              "\n",
              "      <script>\n",
              "        const buttonEl =\n",
              "          document.querySelector('#df-02113dd6-0fbc-4e7c-9d80-187ed9c22f3f button.colab-df-convert');\n",
              "        buttonEl.style.display =\n",
              "          google.colab.kernel.accessAllowed ? 'block' : 'none';\n",
              "\n",
              "        async function convertToInteractive(key) {\n",
              "          const element = document.querySelector('#df-02113dd6-0fbc-4e7c-9d80-187ed9c22f3f');\n",
              "          const dataTable =\n",
              "            await google.colab.kernel.invokeFunction('convertToInteractive',\n",
              "                                                     [key], {});\n",
              "          if (!dataTable) return;\n",
              "\n",
              "          const docLinkHtml = 'Like what you see? Visit the ' +\n",
              "            '<a target=\"_blank\" href=https://colab.research.google.com/notebooks/data_table.ipynb>data table notebook</a>'\n",
              "            + ' to learn more about interactive tables.';\n",
              "          element.innerHTML = '';\n",
              "          dataTable['output_type'] = 'display_data';\n",
              "          await google.colab.output.renderOutput(dataTable, element);\n",
              "          const docLink = document.createElement('div');\n",
              "          docLink.innerHTML = docLinkHtml;\n",
              "          element.appendChild(docLink);\n",
              "        }\n",
              "      </script>\n",
              "    </div>\n",
              "  </div>\n",
              "  "
            ]
          },
          "metadata": {},
          "execution_count": 34
        }
      ]
    },
    {
      "cell_type": "code",
      "source": [
        "/# la data set qu'on vise\n",
        "data = dataset[(dataset['stars'] == 1) | (dataset['stars'] == 2)]\n",
        "DATA = pd.DataFrame(columns=['text_cleaned','stars','length'])\n",
        "DATA.text_cleaned= dataset.text_cleaned\n",
        "DATA.stars= dataset.stars\n",
        "DATA.length= dataset.length\n",
        "DATA.index=range(len(dataset))\n",
        "print(DATA)"
      ],
      "metadata": {
        "colab": {
          "base_uri": "https://localhost:8080/"
        },
        "id": "VmVqURcS52oJ",
        "outputId": "6ecf9da7-3cc2-4c69-bd9b-3f5e0bbcfb40"
      },
      "execution_count": 35,
      "outputs": [
        {
          "output_type": "stream",
          "name": "stdout",
          "text": [
            "                                            text_cleaned  stars  length\n",
            "0      food memorable panang curry balance flavor lik...      1      68\n",
            "1      NOT_return ever sit booth wait dinner come scu...      1      87\n",
            "2      wish experience great others din wednesday nig...      1     166\n",
            "3      rosemary grapefruit scone suppose taste like w...      1      81\n",
            "4      takeout order half wrong food miss portion siz...      1      32\n",
            "...                                                  ...    ...     ...\n",
            "24995  loyal fan aroy ownership change apprehensive v...      5      75\n",
            "24996  stopped bite wander around faneuil hall pleasa...      5      55\n",
            "24997  quiet place excellent food great music helpful...      5      32\n",
            "24998  super delicious food awesome vibe suffer disne...      5      41\n",
            "24999  lot dietary restriction place spot superfood s...      5      87\n",
            "\n",
            "[25000 rows x 3 columns]\n"
          ]
        }
      ]
    },
    {
      "cell_type": "code",
      "source": [
        "corpus = DATA.text_cleaned\n",
        "X = vec.fit_transform(corpus)\n",
        "vec.get_feature_names_out()"
      ],
      "metadata": {
        "colab": {
          "base_uri": "https://localhost:8080/"
        },
        "id": "BxeuLFrkEmqg",
        "outputId": "198e45c6-7397-4cab-ee63-92a2065bf6c7"
      },
      "execution_count": 36,
      "outputs": [
        {
          "output_type": "execute_result",
          "data": {
            "text/plain": [
              "array(['00', '10', '11', '12', '15', '20', '25', '30', '40', '45', '50',\n",
              "       'able', 'absolutely', 'accommodate', 'across', 'actually', 'add',\n",
              "       'afternoon', 'ago', 'agree', 'ahead', 'almost', 'alone', 'along',\n",
              "       'already', 'also', 'although', 'always', 'amaze', 'amazing',\n",
              "       'ambiance', 'american', 'amount', 'another', 'answer', 'anyone',\n",
              "       'anything', 'anyway', 'anywhere', 'apologize', 'apparently',\n",
              "       'appear', 'appetizer', 'appreciate', 'area', 'around', 'arrive',\n",
              "       'asian', 'ask', 'atlanta', 'atmosphere', 'attention', 'attentive',\n",
              "       'attitude', 'austin', 'authentic', 'available', 'average',\n",
              "       'avocado', 'avoid', 'away', 'awesome', 'awful', 'back', 'bacon',\n",
              "       'bad', 'bag', 'bar', 'bartender', 'base', 'basically', 'bathroom',\n",
              "       'bbq', 'bean', 'beautiful', 'become', 'beef', 'beer', 'begin',\n",
              "       'behind', 'believe', 'best', 'big', 'bill', 'birthday', 'bit',\n",
              "       'bite', 'black', 'bland', 'blue', 'booth', 'boston', 'bother',\n",
              "       'bottle', 'bottom', 'bowl', 'box', 'boyfriend', 'bread', 'break',\n",
              "       'breakfast', 'bring', 'broth', 'brown', 'brunch', 'buck', 'buffet',\n",
              "       'bun', 'burger', 'burrito', 'business', 'busy', 'butter', 'buy',\n",
              "       'cafe', 'cake', 'calamari', 'call', 'came', 'car', 'card', 'care',\n",
              "       'case', 'cash', 'casual', 'catch', 'certainly', 'chain', 'chance',\n",
              "       'change', 'charge', 'cheap', 'check', 'cheese', 'chef', 'chewy',\n",
              "       'chicken', 'chili', 'chinese', 'chip', 'chocolate', 'choice',\n",
              "       'choose', 'city', 'clean', 'clear', 'clearly', 'close', 'cocktail',\n",
              "       'coffee', 'cold', 'combination', 'combo', 'come', 'comfortable',\n",
              "       'compare', 'complain', 'complaint', 'completely', 'consider',\n",
              "       'continue', 'conversation', 'cook', 'cool', 'corn', 'corner',\n",
              "       'cost', 'could', 'counter', 'couple', 'course', 'cover', 'cozy',\n",
              "       'crab', 'crave', 'crazy', 'cream', 'creamy', 'credit', 'crispy',\n",
              "       'crowd', 'crust', 'cuisine', 'cup', 'curry', 'customer', 'cut',\n",
              "       'cute', 'dark', 'date', 'day', 'deal', 'decent', 'decide', 'decor',\n",
              "       'definitely', 'delicious', 'deliver', 'delivery', 'despite',\n",
              "       'dessert', 'die', 'different', 'din', 'diner', 'dining', 'dinner',\n",
              "       'dip', 'dirty', 'disappoint', 'disappointed', 'disappointing',\n",
              "       'disappointment', 'dish', 'dog', 'dollar', 'donut', 'door',\n",
              "       'downtown', 'dress', 'drink', 'drive', 'drop', 'dry', 'duck',\n",
              "       'due', 'dumpling', 'early', 'easily', 'easy', 'eat', 'egg',\n",
              "       'either', 'else', 'elsewhere', 'employee', 'empty', 'end', 'enjoy',\n",
              "       'enough', 'entire', 'entree', 'especially', 'establishment', 'etc',\n",
              "       'even', 'evening', 'ever', 'every', 'everyone', 'everything',\n",
              "       'exactly', 'excellent', 'except', 'excite', 'expect',\n",
              "       'expectation', 'expensive', 'experience', 'explain', 'extra',\n",
              "       'extremely', 'eye', 'face', 'fact', 'fair', 'fairly', 'fall',\n",
              "       'family', 'fan', 'fantastic', 'far', 'fast', 'favorite', 'feel',\n",
              "       'felt', 'figure', 'fill', 'finally', 'find', 'fine', 'finish',\n",
              "       'first', 'fish', 'five', 'fix', 'flavor', 'flavorful', 'floor',\n",
              "       'food', 'forever', 'forget', 'forward', 'four', 'free', 'french',\n",
              "       'fresh', 'friday', 'fried', 'friend', 'friendly', 'front',\n",
              "       'frozen', 'fruit', 'fry', 'full', 'fun', 'game', 'garlic',\n",
              "       'general', 'generous', 'get', 'girl', 'give', 'glad', 'glass',\n",
              "       'go', 'good', 'got', 'grab', 'greasy', 'great', 'green', 'greet',\n",
              "       'grill', 'grilled', 'gross', 'group', 'guess', 'guest', 'guy',\n",
              "       'half', 'hand', 'hang', 'happen', 'happy', 'hard', 'hate', 'head',\n",
              "       'healthy', 'hear', 'heat', 'heavy', 'help', 'helpful', 'high',\n",
              "       'highly', 'hit', 'hold', 'home', 'homemade', 'honestly', 'hop',\n",
              "       'hope', 'horrible', 'host', 'hostess', 'hot', 'hotel', 'hour',\n",
              "       'house', 'however', 'huge', 'hungry', 'husband', 'ice', 'ignore',\n",
              "       'immediately', 'impress', 'include', 'incredibly', 'indian',\n",
              "       'ingredient', 'inside', 'instead', 'interesting', 'issue',\n",
              "       'italian', 'item', 'job', 'joint', 'juicy', 'keep', 'kick', 'kid',\n",
              "       'kind', 'kitchen', 'know', 'lack', 'lady', 'lamb', 'large', 'last',\n",
              "       'late', 'later', 'least', 'leave', 'lemon', 'less', 'let',\n",
              "       'lettuce', 'level', 'life', 'light', 'like', 'line', 'list',\n",
              "       'literally', 'little', 'live', 'lobster', 'local', 'locate',\n",
              "       'location', 'long', 'look', 'lose', 'lot', 'loud', 'love',\n",
              "       'lovely', 'low', 'lunch', 'mac', 'main', 'make', 'man',\n",
              "       'management', 'manager', 'many', 'margarita', 'may', 'maybe',\n",
              "       'meal', 'mean', 'meat', 'mediocre', 'medium', 'meet', 'meh',\n",
              "       'melt', 'mention', 'menu', 'mess', 'mexican', 'middle', 'might',\n",
              "       'min', 'mind', 'mine', 'minute', 'miss', 'mistake', 'mix', 'mixed',\n",
              "       'money', 'month', 'morning', 'mostly', 'mouth', 'move', 'much',\n",
              "       'mushroom', 'music', 'must', 'name', 'near', 'nearby', 'need',\n",
              "       'neighborhood', 'new', 'next', 'nice', 'nicely', 'night', 'non',\n",
              "       'none', 'noodle', 'normal', 'normally', 'north', 'not_a',\n",
              "       'not_bad', 'not_be', 'not_come', 'not_eat', 'not_even', 'not_get',\n",
              "       'not_go', 'not_good', 'not_great', 'not_have', 'not_one',\n",
              "       'not_only', 'not_recommend', 'not_so', 'not_sure', 'not_that',\n",
              "       'not_the', 'not_to', 'not_too', 'not_very', 'not_worth', 'note',\n",
              "       'nothing', 'notice', 'number', 'obviously', 'offer', 'often', 'oh',\n",
              "       'oil', 'ok', 'okay', 'old', 'one', 'onion', 'open', 'opinion',\n",
              "       'option', 'order', 'ordered', 'orlando', 'others', 'otherwise',\n",
              "       'outdoor', 'outside', 'overall', 'overprice', 'owner', 'oyster',\n",
              "       'pack', 'pad', 'pancake', 'par', 'park', 'parking', 'part',\n",
              "       'party', 'pass', 'past', 'pasta', 'patio', 'patron', 'pay',\n",
              "       'people', 'pepper', 'per', 'perfect', 'perfectly', 'perhaps',\n",
              "       'person', 'phone', 'pick', 'picture', 'pie', 'piece', 'pizza',\n",
              "       'place', 'plain', 'plan', 'plate', 'play', 'pleasant', 'please',\n",
              "       'plenty', 'plus', 'point', 'poor', 'pork', 'portion', 'portland',\n",
              "       'pot', 'potato', 'prefer', 'prepare', 'pretty', 'price', 'pricey',\n",
              "       'probably', 'problem', 'provide', 'pull', 'put', 'quality',\n",
              "       'question', 'quick', 'quickly', 'quite', 'ramen', 'rare', 'rather',\n",
              "       'rating', 'raw', 'read', 'ready', 'real', 'realize', 'really',\n",
              "       'reason', 'reasonable', 'receive', 'recently', 'recommend', 'red',\n",
              "       'refill', 'regular', 'remember', 'remind', 'request',\n",
              "       'reservation', 'rest', 'restaurant', 'return', 'review', 'rib',\n",
              "       'rice', 'ridiculous', 'right', 'roast', 'roll', 'room', 'round',\n",
              "       'rude', 'run', 'rush', 'sad', 'salad', 'salmon', 'salsa', 'salt',\n",
              "       'salty', 'sandwich', 'saturday', 'sauce', 'sausage', 'save', 'saw',\n",
              "       'say', 'seafood', 'season', 'seat', 'seating', 'second', 'see',\n",
              "       'seem', 'selection', 'sell', 'send', 'seriously', 'serve',\n",
              "       'server', 'service', 'set', 'several', 'share', 'shop', 'short',\n",
              "       'shot', 'show', 'shrimp', 'side', 'sign', 'similar', 'simple',\n",
              "       'simply', 'since', 'single', 'sit', 'size', 'slice', 'slightly',\n",
              "       'slow', 'small', 'smell', 'smile', 'soft', 'soggy', 'solid',\n",
              "       'someone', 'something', 'sometimes', 'somewhat', 'somewhere',\n",
              "       'soon', 'sorry', 'sort', 'sound', 'soup', 'sour', 'south', 'space',\n",
              "       'speak', 'special', 'spend', 'spice', 'spicy', 'spinach', 'split',\n",
              "       'spot', 'staff', 'stand', 'standard', 'star', 'start', 'state',\n",
              "       'stay', 'steak', 'stick', 'still', 'stop', 'store', 'street',\n",
              "       'strip', 'strong', 'stuff', 'style', 'sub', 'suck', 'suggest',\n",
              "       'summer', 'sunday', 'super', 'suppose', 'sure', 'surprise',\n",
              "       'sushi', 'sweet', 'table', 'taco', 'take', 'talk', 'tap', 'taste',\n",
              "       'tasteless', 'tasty', 'tea', 'tell', 'tender', 'terrible',\n",
              "       'texture', 'thai', 'thank', 'thanks', 'thick', 'thin', 'thing',\n",
              "       'think', 'though', 'three', 'throw', 'time', 'tiny', 'tip',\n",
              "       'toast', 'today', 'tofu', 'together', 'tomato', 'ton', 'tonight',\n",
              "       'top', 'topping', 'tortilla', 'total', 'totally', 'touch', 'tough',\n",
              "       'town', 'traditional', 'treat', 'trip', 'truly', 'try', 'tuna',\n",
              "       'turn', 'twice', 'two', 'type', 'typical', 'understand',\n",
              "       'unfortunately', 'unique', 'unless', 'update', 'upon', 'use',\n",
              "       'usual', 'usually', 'value', 'vancouver', 'variety', 'vegan',\n",
              "       'vegetable', 'vegetarian', 'veggie', 'vibe', 'view', 'visit',\n",
              "       'waffle', 'wait', 'waiter', 'waitress', 'walk', 'wall', 'want',\n",
              "       'warm', 'waste', 'watch', 'water', 'way', 'week', 'weekend',\n",
              "       'weird', 'welcome', 'well', 'went', 'whatever', 'white', 'whole',\n",
              "       'wife', 'win', 'window', 'wine', 'wing', 'wish', 'within',\n",
              "       'without', 'woman', 'wonderful', 'word', 'work', 'world', 'worth',\n",
              "       'would', 'wow', 'wrap', 'write', 'wrong', 'yeah', 'year', 'yelp',\n",
              "       'yes', 'yet', 'young', 'yum', 'yummy'], dtype=object)"
            ]
          },
          "metadata": {},
          "execution_count": 36
        }
      ]
    },
    {
      "cell_type": "code",
      "source": [
        "\n",
        "data_dtm_text = pd.DataFrame(X.toarray(), columns=vec.get_feature_names_out())\n",
        "data_dtm_text.index = DATA.index\n",
        "data_dtm_text.head()"
      ],
      "metadata": {
        "colab": {
          "base_uri": "https://localhost:8080/",
          "height": 235
        },
        "id": "ueY39FXiEmaa",
        "outputId": "f1635c0f-fabf-49a2-9041-018d81b7f9a4"
      },
      "execution_count": 37,
      "outputs": [
        {
          "output_type": "execute_result",
          "data": {
            "text/plain": [
              "    00        10   11   12   15   20   25   30   40   45  ...  write  \\\n",
              "0  0.0  0.000000  0.0  0.0  0.0  0.0  0.0  0.0  0.0  0.0  ...    0.0   \n",
              "1  0.0  0.000000  0.0  0.0  0.0  0.0  0.0  0.0  0.0  0.0  ...    0.0   \n",
              "2  0.0  0.000000  0.0  0.0  0.0  0.0  0.0  0.0  0.0  0.0  ...    0.0   \n",
              "3  0.0  0.000000  0.0  0.0  0.0  0.0  0.0  0.0  0.0  0.0  ...    0.0   \n",
              "4  0.0  0.426554  0.0  0.0  0.0  0.0  0.0  0.0  0.0  0.0  ...    0.0   \n",
              "\n",
              "      wrong  yeah  year  yelp  yes  yet  young  yum  yummy  \n",
              "0  0.000000   0.0   0.0   0.0  0.0  0.0    0.0  0.0    0.0  \n",
              "1  0.000000   0.0   0.0   0.0  0.0  0.0    0.0  0.0    0.0  \n",
              "2  0.000000   0.0   0.0   0.0  0.0  0.0    0.0  0.0    0.0  \n",
              "3  0.000000   0.0   0.0   0.0  0.0  0.0    0.0  0.0    0.0  \n",
              "4  0.488499   0.0   0.0   0.0  0.0  0.0    0.0  0.0    0.0  \n",
              "\n",
              "[5 rows x 847 columns]"
            ],
            "text/html": [
              "\n",
              "  <div id=\"df-a3ab3516-9032-45cb-bf8c-9e2cda6ee06b\">\n",
              "    <div class=\"colab-df-container\">\n",
              "      <div>\n",
              "<style scoped>\n",
              "    .dataframe tbody tr th:only-of-type {\n",
              "        vertical-align: middle;\n",
              "    }\n",
              "\n",
              "    .dataframe tbody tr th {\n",
              "        vertical-align: top;\n",
              "    }\n",
              "\n",
              "    .dataframe thead th {\n",
              "        text-align: right;\n",
              "    }\n",
              "</style>\n",
              "<table border=\"1\" class=\"dataframe\">\n",
              "  <thead>\n",
              "    <tr style=\"text-align: right;\">\n",
              "      <th></th>\n",
              "      <th>00</th>\n",
              "      <th>10</th>\n",
              "      <th>11</th>\n",
              "      <th>12</th>\n",
              "      <th>15</th>\n",
              "      <th>20</th>\n",
              "      <th>25</th>\n",
              "      <th>30</th>\n",
              "      <th>40</th>\n",
              "      <th>45</th>\n",
              "      <th>...</th>\n",
              "      <th>write</th>\n",
              "      <th>wrong</th>\n",
              "      <th>yeah</th>\n",
              "      <th>year</th>\n",
              "      <th>yelp</th>\n",
              "      <th>yes</th>\n",
              "      <th>yet</th>\n",
              "      <th>young</th>\n",
              "      <th>yum</th>\n",
              "      <th>yummy</th>\n",
              "    </tr>\n",
              "  </thead>\n",
              "  <tbody>\n",
              "    <tr>\n",
              "      <th>0</th>\n",
              "      <td>0.0</td>\n",
              "      <td>0.000000</td>\n",
              "      <td>0.0</td>\n",
              "      <td>0.0</td>\n",
              "      <td>0.0</td>\n",
              "      <td>0.0</td>\n",
              "      <td>0.0</td>\n",
              "      <td>0.0</td>\n",
              "      <td>0.0</td>\n",
              "      <td>0.0</td>\n",
              "      <td>...</td>\n",
              "      <td>0.0</td>\n",
              "      <td>0.000000</td>\n",
              "      <td>0.0</td>\n",
              "      <td>0.0</td>\n",
              "      <td>0.0</td>\n",
              "      <td>0.0</td>\n",
              "      <td>0.0</td>\n",
              "      <td>0.0</td>\n",
              "      <td>0.0</td>\n",
              "      <td>0.0</td>\n",
              "    </tr>\n",
              "    <tr>\n",
              "      <th>1</th>\n",
              "      <td>0.0</td>\n",
              "      <td>0.000000</td>\n",
              "      <td>0.0</td>\n",
              "      <td>0.0</td>\n",
              "      <td>0.0</td>\n",
              "      <td>0.0</td>\n",
              "      <td>0.0</td>\n",
              "      <td>0.0</td>\n",
              "      <td>0.0</td>\n",
              "      <td>0.0</td>\n",
              "      <td>...</td>\n",
              "      <td>0.0</td>\n",
              "      <td>0.000000</td>\n",
              "      <td>0.0</td>\n",
              "      <td>0.0</td>\n",
              "      <td>0.0</td>\n",
              "      <td>0.0</td>\n",
              "      <td>0.0</td>\n",
              "      <td>0.0</td>\n",
              "      <td>0.0</td>\n",
              "      <td>0.0</td>\n",
              "    </tr>\n",
              "    <tr>\n",
              "      <th>2</th>\n",
              "      <td>0.0</td>\n",
              "      <td>0.000000</td>\n",
              "      <td>0.0</td>\n",
              "      <td>0.0</td>\n",
              "      <td>0.0</td>\n",
              "      <td>0.0</td>\n",
              "      <td>0.0</td>\n",
              "      <td>0.0</td>\n",
              "      <td>0.0</td>\n",
              "      <td>0.0</td>\n",
              "      <td>...</td>\n",
              "      <td>0.0</td>\n",
              "      <td>0.000000</td>\n",
              "      <td>0.0</td>\n",
              "      <td>0.0</td>\n",
              "      <td>0.0</td>\n",
              "      <td>0.0</td>\n",
              "      <td>0.0</td>\n",
              "      <td>0.0</td>\n",
              "      <td>0.0</td>\n",
              "      <td>0.0</td>\n",
              "    </tr>\n",
              "    <tr>\n",
              "      <th>3</th>\n",
              "      <td>0.0</td>\n",
              "      <td>0.000000</td>\n",
              "      <td>0.0</td>\n",
              "      <td>0.0</td>\n",
              "      <td>0.0</td>\n",
              "      <td>0.0</td>\n",
              "      <td>0.0</td>\n",
              "      <td>0.0</td>\n",
              "      <td>0.0</td>\n",
              "      <td>0.0</td>\n",
              "      <td>...</td>\n",
              "      <td>0.0</td>\n",
              "      <td>0.000000</td>\n",
              "      <td>0.0</td>\n",
              "      <td>0.0</td>\n",
              "      <td>0.0</td>\n",
              "      <td>0.0</td>\n",
              "      <td>0.0</td>\n",
              "      <td>0.0</td>\n",
              "      <td>0.0</td>\n",
              "      <td>0.0</td>\n",
              "    </tr>\n",
              "    <tr>\n",
              "      <th>4</th>\n",
              "      <td>0.0</td>\n",
              "      <td>0.426554</td>\n",
              "      <td>0.0</td>\n",
              "      <td>0.0</td>\n",
              "      <td>0.0</td>\n",
              "      <td>0.0</td>\n",
              "      <td>0.0</td>\n",
              "      <td>0.0</td>\n",
              "      <td>0.0</td>\n",
              "      <td>0.0</td>\n",
              "      <td>...</td>\n",
              "      <td>0.0</td>\n",
              "      <td>0.488499</td>\n",
              "      <td>0.0</td>\n",
              "      <td>0.0</td>\n",
              "      <td>0.0</td>\n",
              "      <td>0.0</td>\n",
              "      <td>0.0</td>\n",
              "      <td>0.0</td>\n",
              "      <td>0.0</td>\n",
              "      <td>0.0</td>\n",
              "    </tr>\n",
              "  </tbody>\n",
              "</table>\n",
              "<p>5 rows × 847 columns</p>\n",
              "</div>\n",
              "      <button class=\"colab-df-convert\" onclick=\"convertToInteractive('df-a3ab3516-9032-45cb-bf8c-9e2cda6ee06b')\"\n",
              "              title=\"Convert this dataframe to an interactive table.\"\n",
              "              style=\"display:none;\">\n",
              "        \n",
              "  <svg xmlns=\"http://www.w3.org/2000/svg\" height=\"24px\"viewBox=\"0 0 24 24\"\n",
              "       width=\"24px\">\n",
              "    <path d=\"M0 0h24v24H0V0z\" fill=\"none\"/>\n",
              "    <path d=\"M18.56 5.44l.94 2.06.94-2.06 2.06-.94-2.06-.94-.94-2.06-.94 2.06-2.06.94zm-11 1L8.5 8.5l.94-2.06 2.06-.94-2.06-.94L8.5 2.5l-.94 2.06-2.06.94zm10 10l.94 2.06.94-2.06 2.06-.94-2.06-.94-.94-2.06-.94 2.06-2.06.94z\"/><path d=\"M17.41 7.96l-1.37-1.37c-.4-.4-.92-.59-1.43-.59-.52 0-1.04.2-1.43.59L10.3 9.45l-7.72 7.72c-.78.78-.78 2.05 0 2.83L4 21.41c.39.39.9.59 1.41.59.51 0 1.02-.2 1.41-.59l7.78-7.78 2.81-2.81c.8-.78.8-2.07 0-2.86zM5.41 20L4 18.59l7.72-7.72 1.47 1.35L5.41 20z\"/>\n",
              "  </svg>\n",
              "      </button>\n",
              "      \n",
              "  <style>\n",
              "    .colab-df-container {\n",
              "      display:flex;\n",
              "      flex-wrap:wrap;\n",
              "      gap: 12px;\n",
              "    }\n",
              "\n",
              "    .colab-df-convert {\n",
              "      background-color: #E8F0FE;\n",
              "      border: none;\n",
              "      border-radius: 50%;\n",
              "      cursor: pointer;\n",
              "      display: none;\n",
              "      fill: #1967D2;\n",
              "      height: 32px;\n",
              "      padding: 0 0 0 0;\n",
              "      width: 32px;\n",
              "    }\n",
              "\n",
              "    .colab-df-convert:hover {\n",
              "      background-color: #E2EBFA;\n",
              "      box-shadow: 0px 1px 2px rgba(60, 64, 67, 0.3), 0px 1px 3px 1px rgba(60, 64, 67, 0.15);\n",
              "      fill: #174EA6;\n",
              "    }\n",
              "\n",
              "    [theme=dark] .colab-df-convert {\n",
              "      background-color: #3B4455;\n",
              "      fill: #D2E3FC;\n",
              "    }\n",
              "\n",
              "    [theme=dark] .colab-df-convert:hover {\n",
              "      background-color: #434B5C;\n",
              "      box-shadow: 0px 1px 3px 1px rgba(0, 0, 0, 0.15);\n",
              "      filter: drop-shadow(0px 1px 2px rgba(0, 0, 0, 0.3));\n",
              "      fill: #FFFFFF;\n",
              "    }\n",
              "  </style>\n",
              "\n",
              "      <script>\n",
              "        const buttonEl =\n",
              "          document.querySelector('#df-a3ab3516-9032-45cb-bf8c-9e2cda6ee06b button.colab-df-convert');\n",
              "        buttonEl.style.display =\n",
              "          google.colab.kernel.accessAllowed ? 'block' : 'none';\n",
              "\n",
              "        async function convertToInteractive(key) {\n",
              "          const element = document.querySelector('#df-a3ab3516-9032-45cb-bf8c-9e2cda6ee06b');\n",
              "          const dataTable =\n",
              "            await google.colab.kernel.invokeFunction('convertToInteractive',\n",
              "                                                     [key], {});\n",
              "          if (!dataTable) return;\n",
              "\n",
              "          const docLinkHtml = 'Like what you see? Visit the ' +\n",
              "            '<a target=\"_blank\" href=https://colab.research.google.com/notebooks/data_table.ipynb>data table notebook</a>'\n",
              "            + ' to learn more about interactive tables.';\n",
              "          element.innerHTML = '';\n",
              "          dataTable['output_type'] = 'display_data';\n",
              "          await google.colab.output.renderOutput(dataTable, element);\n",
              "          const docLink = document.createElement('div');\n",
              "          docLink.innerHTML = docLinkHtml;\n",
              "          element.appendChild(docLink);\n",
              "        }\n",
              "      </script>\n",
              "    </div>\n",
              "  </div>\n",
              "  "
            ]
          },
          "metadata": {},
          "execution_count": 37
        }
      ]
    },
    {
      "cell_type": "code",
      "source": [
        "#Display Topics \n",
        "def display_topics(model, feature_names, num_top_words,topic_names=None):\n",
        "    # iterate through topics in topic-term matrix, 'H' aka\n",
        "    # model.components_\n",
        "  for ix, topic in enumerate(model.components_):\n",
        "\n",
        "  #print topic, topic number, and top words\n",
        "    if not topic_names or not topic_names[ix]:\n",
        "      print(\"\\nTopic \", ix)\n",
        "    else:\n",
        "      print(\"\\nTopic: '\",topic_names[ix],\"'\")\n",
        "    print(\", \".join([feature_names[i] \\\n",
        "    for i in topic.argsort()[:-num_top_words - 1:-1]]))"
      ],
      "metadata": {
        "id": "GxWBvDdiEmXF"
      },
      "execution_count": 38,
      "outputs": []
    },
    {
      "cell_type": "code",
      "source": [
        "doc_topic = nmf.fit_transform(data_dtm_text)\n",
        "display_topics(nmf, vec.get_feature_names(), 5)"
      ],
      "metadata": {
        "colab": {
          "base_uri": "https://localhost:8080/"
        },
        "id": "4hHjfIUMHSqo",
        "outputId": "d17d264b-193b-4427-ea9d-6ae057318bb3"
      },
      "execution_count": 39,
      "outputs": [
        {
          "output_type": "stream",
          "name": "stderr",
          "text": [
            "/usr/local/lib/python3.7/dist-packages/sklearn/decomposition/_nmf.py:294: FutureWarning: The 'init' value, when 'init=None' and n_components is less than n_samples and n_features, will be changed from 'nndsvd' to 'nndsvda' in 1.1 (renaming of 0.26).\n",
            "  FutureWarning,\n"
          ]
        },
        {
          "output_type": "stream",
          "name": "stdout",
          "text": [
            "\n",
            "Topic  0\n",
            "like, dish, taste, sauce, menu\n",
            "\n",
            "Topic  1\n",
            "order, wait, minute, take, table\n",
            "\n",
            "Topic  2\n",
            "chicken, fry, rice, order, sandwich\n",
            "\n",
            "Topic  3\n",
            "pizza, crust, slice, cheese, topping\n",
            "\n",
            "Topic  4\n",
            "burger, fry, cheese, bun, onion\n",
            "\n",
            "Topic  5\n",
            "food, service, restaurant, bad, price\n",
            "\n",
            "Topic  6\n",
            "good, pretty, really, price, nice\n",
            "\n",
            "Topic  7\n",
            "bar, drink, beer, night, bartender\n",
            "\n",
            "Topic  8\n",
            "sushi, roll, fish, tuna, fresh\n",
            "\n",
            "Topic  9\n",
            "coffee, sandwich, breakfast, staff, friendly\n",
            "\n",
            "Topic  10\n",
            "place, like, love, really, look\n",
            "\n",
            "Topic  11\n",
            "time, go, back, get, first\n",
            "\n",
            "Topic  12\n",
            "great, atmosphere, service, friendly, delicious\n",
            "\n",
            "Topic  13\n",
            "taco, fish, salsa, mexican, chip\n",
            "\n",
            "Topic  14\n",
            "best, ever, love, always, donut\n"
          ]
        },
        {
          "output_type": "stream",
          "name": "stderr",
          "text": [
            "/usr/local/lib/python3.7/dist-packages/sklearn/decomposition/_nmf.py:1641: ConvergenceWarning: Maximum number of iterations 200 reached. Increase it to improve convergence.\n",
            "  ConvergenceWarning,\n",
            "/usr/local/lib/python3.7/dist-packages/sklearn/utils/deprecation.py:87: FutureWarning: Function get_feature_names is deprecated; get_feature_names is deprecated in 1.0 and will be removed in 1.2. Please use get_feature_names_out instead.\n",
            "  warnings.warn(msg, category=FutureWarning)\n"
          ]
        }
      ]
    },
    {
      "cell_type": "markdown",
      "source": [
        "cas d'une phrase\n"
      ],
      "metadata": {
        "id": "mzRxLhDqIVmA"
      }
    },
    {
      "cell_type": "code",
      "source": [
        "phrase=[\"i dont like u \"]\n",
        "#corpus = Neg_DF.text_cleaned\n",
        "\n",
        "X = vec.transform(corpus)\n",
        "nmf_features = nmf.transform(X)\n",
        "nmf_features"
      ],
      "metadata": {
        "colab": {
          "base_uri": "https://localhost:8080/"
        },
        "id": "qx5YVCcGHWZK",
        "outputId": "c0f1c91c-24c6-4968-f78e-ce4d645b8f73"
      },
      "execution_count": 40,
      "outputs": [
        {
          "output_type": "stream",
          "name": "stderr",
          "text": [
            "/usr/local/lib/python3.7/dist-packages/sklearn/base.py:451: UserWarning: X does not have valid feature names, but NMF was fitted with feature names\n",
            "  \"X does not have valid feature names, but\"\n"
          ]
        },
        {
          "output_type": "execute_result",
          "data": {
            "text/plain": [
              "array([[0.03402563, 0.        , 0.00719495, ..., 0.        , 0.        ,\n",
              "        0.00237683],\n",
              "       [0.00160401, 0.04500506, 0.        , ..., 0.        , 0.        ,\n",
              "        0.01421597],\n",
              "       [0.02091427, 0.01056155, 0.0473009 , ..., 0.0147817 , 0.        ,\n",
              "        0.        ],\n",
              "       ...,\n",
              "       [0.        , 0.        , 0.        , ..., 0.04552817, 0.        ,\n",
              "        0.        ],\n",
              "       [0.00609339, 0.        , 0.00114718, ..., 0.01010406, 0.        ,\n",
              "        0.01220162],\n",
              "       [0.02405327, 0.        , 0.        , ..., 0.00705495, 0.        ,\n",
              "        0.00734026]])"
            ]
          },
          "metadata": {},
          "execution_count": 40
        }
      ]
    },
    {
      "cell_type": "code",
      "source": [
        "dict = {\n",
        "    0 : \"bad phone call to customer\",\n",
        "    1 : \"bad taste\",\n",
        "    2 : \"bad pizza\",\n",
        "    3 : \"wrong order, bad dilivery\",\n",
        "    4 : \"bad or slow service food\",\n",
        "    5 : \"bad service\",\n",
        "    6 : \"bad burgers\",\n",
        "    7 : \"long wait\",\n",
        "    8 : \"bad food\",\n",
        "    9 : \"bad service in bar\",\n",
        "    10 : \"problem with the delivery \",\n",
        "    11 : \"bad experience many times\",\n",
        "    12 : \"food is not served with orgonazation\",\n",
        "    13 : \"bad sushis\",\n",
        "    14 : \"bad place\"\n",
        "}"
      ],
      "metadata": {
        "id": "BC4BacczIeZp"
      },
      "execution_count": 41,
      "outputs": []
    },
    {
      "cell_type": "code",
      "source": [
        "def prediction(input : str,nb_features:int,dict=dict, blob=True) :\n",
        "\n",
        "  if blob == True :\n",
        "    blob = TextBlob(input)\n",
        "    polarity = blob.sentiment.polarity\n",
        "    print(polarity)\n",
        "    if polarity > 0 :\n",
        "      print(\"POLARITE:\", polarity, \" ( C'EST UN COMMENTAIRE POSITIF)\")\n",
        "\n",
        "    if polarity<0 :\n",
        "      print(\"POLARITE:\", polarity, \" (COMMENTAIRE NEGATIF)\")\n",
        "      input = [input]\n",
        "      X = vec.transform(input)\n",
        "      nmf_features =list(list(nmf.transform(X))[0])\n",
        "      \n",
        "      \n",
        "      a = nmf_features\n",
        "      b = []\n",
        "      b.append(nmf_features.index(max(a)))\n",
        "      a.pop(b[0])\n",
        "      \n",
        "      for i in range(nb_features-1):\n",
        "        \n",
        "        index = nmf_features.index(max(a))\n",
        "        b.append(index)\n",
        "        a.pop(index)\n",
        "\n",
        "      for i in b :\n",
        "        print(dict[i])"
      ],
      "metadata": {
        "id": "KVGzbPcAIete"
      },
      "execution_count": 46,
      "outputs": []
    },
    {
      "cell_type": "code",
      "source": [
        "prediction(\"very bad time\", 4)"
      ],
      "metadata": {
        "colab": {
          "base_uri": "https://localhost:8080/"
        },
        "id": "UV9Ohfc-IfPe",
        "outputId": "e686955e-7bd4-4a0c-c78b-5e4393c3fefd"
      },
      "execution_count": 45,
      "outputs": [
        {
          "output_type": "stream",
          "name": "stdout",
          "text": [
            "-0.9099999999999998\n",
            "POLARITE: -0.9099999999999998  (COMMENTAIRE NEGATIF)\n",
            "bad experience many times\n",
            "bad service\n",
            "bad phone call to customer\n",
            "bad phone call to customer\n"
          ]
        },
        {
          "output_type": "stream",
          "name": "stderr",
          "text": [
            "/usr/local/lib/python3.7/dist-packages/sklearn/base.py:451: UserWarning: X does not have valid feature names, but NMF was fitted with feature names\n",
            "  \"X does not have valid feature names, but\"\n"
          ]
        }
      ]
    },
    {
      "cell_type": "code",
      "source": [],
      "metadata": {
        "id": "P8-bIMTIQpHW"
      },
      "execution_count": null,
      "outputs": []
    }
  ]
}